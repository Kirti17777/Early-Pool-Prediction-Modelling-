{
 "cells": [
  {
   "cell_type": "code",
   "execution_count": 47,
   "id": "68bfec34-778b-4b4d-bd5b-86959bf4b5bd",
   "metadata": {},
   "outputs": [],
   "source": [
    "import pandas as pd\n",
    "from sklearn.model_selection import train_test_split\n",
    "from sklearn.preprocessing import LabelEncoder\n",
    "from sklearn.linear_model import LogisticRegression\n",
    "from sklearn.neighbors import KNeighborsClassifier\n",
    "from sklearn.tree import DecisionTreeClassifier\n",
    "from sklearn.metrics import confusion_matrix, classification_report"
   ]
  },
  {
   "cell_type": "code",
   "execution_count": 48,
   "id": "587b0a34-0dbe-40df-ab49-777ccb285797",
   "metadata": {},
   "outputs": [],
   "source": [
    "# Load data\n",
    "df = pd.read_csv(\"Placement Pool Prediction.csv\")"
   ]
  },
  {
   "cell_type": "code",
   "execution_count": 49,
   "id": "f06ddaba-40d7-402e-86dd-a1af0b365678",
   "metadata": {},
   "outputs": [],
   "source": [
    "# Clean column names\n",
    "df.columns = df.columns.str.strip()"
   ]
  },
  {
   "cell_type": "code",
   "execution_count": 50,
   "id": "4aaa6947-5701-4e01-bd32-c725a8a0ca56",
   "metadata": {},
   "outputs": [],
   "source": [
    "# Feature and target selection\n",
    "selected_features = ['Persona', 'Background', 'Lead Type', 'Working/Non-working', 'Gender', 'Degree']\n",
    "target_column = 'Pool Recommendation'"
   ]
  },
  {
   "cell_type": "code",
   "execution_count": 51,
   "id": "cad3be3e-f7d2-4c88-858f-278c07b2d8ae",
   "metadata": {},
   "outputs": [],
   "source": [
    "# Handle missing values (if any)\n",
    "df = df[selected_features + [target_column]].dropna()"
   ]
  },
  {
   "cell_type": "code",
   "execution_count": 52,
   "id": "8f2b0043-d84a-4a46-8ffd-60247bf60039",
   "metadata": {},
   "outputs": [],
   "source": [
    "# Encode categorical features\n",
    "le = LabelEncoder()\n",
    "for col in selected_features:\n",
    "    df[col] = le.fit_transform(df[col])\n",
    "\n",
    "df[target_column] = le.fit_transform(df[target_column])\n"
   ]
  },
  {
   "cell_type": "code",
   "execution_count": 53,
   "id": "c7ec5e1a-c5c7-44af-8d51-c18894ac9bd2",
   "metadata": {},
   "outputs": [],
   "source": [
    "# Train-test split\n",
    "X = df[selected_features]\n",
    "y = df[target_column]\n",
    "X_train, X_test, y_train, y_test = train_test_split(X, y, test_size=0.2, random_state=42)\n"
   ]
  },
  {
   "cell_type": "code",
   "execution_count": 55,
   "id": "5d3b1aca-bacc-4936-9fa6-1ba1ca62d082",
   "metadata": {},
   "outputs": [],
   "source": [
    "# Models\n",
    "models = {\n",
    "    'Logistic Regression': LogisticRegression(),\n",
    "    'Random Forest': RandomForestClassifier(),\n",
    "     \"k-Nearest Neighbors\": KNeighborsClassifier(),\n",
    "    'Decision Tree': DecisionTreeClassifier()\n",
    "}"
   ]
  },
  {
   "cell_type": "code",
   "execution_count": 56,
   "id": "108e3251-97c1-4f3e-bcd4-38e1659d12ea",
   "metadata": {},
   "outputs": [
    {
     "name": "stderr",
     "output_type": "stream",
     "text": [
      "C:\\Users\\newto\\Searches\\New folder\\Lib\\site-packages\\sklearn\\linear_model\\_logistic.py:469: ConvergenceWarning: lbfgs failed to converge (status=1):\n",
      "STOP: TOTAL NO. of ITERATIONS REACHED LIMIT.\n",
      "\n",
      "Increase the number of iterations (max_iter) or scale the data as shown in:\n",
      "    https://scikit-learn.org/stable/modules/preprocessing.html\n",
      "Please also refer to the documentation for alternative solver options:\n",
      "    https://scikit-learn.org/stable/modules/linear_model.html#logistic-regression\n",
      "  n_iter_i = _check_optimize_result(\n"
     ]
    },
    {
     "name": "stdout",
     "output_type": "stream",
     "text": [
      "\n",
      "===== Logistic Regression =====\n",
      "Confusion Matrix:\n",
      "[[0 0 1]\n",
      " [0 1 1]\n",
      " [2 0 3]]\n",
      "\n",
      "Classification Report:\n",
      "              precision    recall  f1-score   support\n",
      "\n",
      "           1       0.00      0.00      0.00         1\n",
      "           2       1.00      0.50      0.67         2\n",
      "           3       0.60      0.60      0.60         5\n",
      "\n",
      "    accuracy                           0.50         8\n",
      "   macro avg       0.53      0.37      0.42         8\n",
      "weighted avg       0.62      0.50      0.54         8\n",
      "\n",
      "\n",
      "===== Random Forest =====\n",
      "Confusion Matrix:\n",
      "[[0 0 1]\n",
      " [0 1 1]\n",
      " [2 0 3]]\n",
      "\n",
      "Classification Report:\n",
      "              precision    recall  f1-score   support\n",
      "\n",
      "           1       0.00      0.00      0.00         1\n",
      "           2       1.00      0.50      0.67         2\n",
      "           3       0.60      0.60      0.60         5\n",
      "\n",
      "    accuracy                           0.50         8\n",
      "   macro avg       0.53      0.37      0.42         8\n",
      "weighted avg       0.62      0.50      0.54         8\n",
      "\n",
      "\n",
      "===== k-Nearest Neighbors =====\n",
      "Confusion Matrix:\n",
      "[[0 0 1]\n",
      " [0 1 1]\n",
      " [3 0 2]]\n",
      "\n",
      "Classification Report:\n",
      "              precision    recall  f1-score   support\n",
      "\n",
      "           1       0.00      0.00      0.00         1\n",
      "           2       1.00      0.50      0.67         2\n",
      "           3       0.50      0.40      0.44         5\n",
      "\n",
      "    accuracy                           0.38         8\n",
      "   macro avg       0.50      0.30      0.37         8\n",
      "weighted avg       0.56      0.38      0.44         8\n",
      "\n",
      "\n",
      "===== Decision Tree =====\n",
      "Confusion Matrix:\n",
      "[[0 0 1]\n",
      " [1 0 1]\n",
      " [2 0 3]]\n",
      "\n",
      "Classification Report:\n",
      "              precision    recall  f1-score   support\n",
      "\n",
      "           1       0.00      0.00      0.00         1\n",
      "           2       0.00      0.00      0.00         2\n",
      "           3       0.60      0.60      0.60         5\n",
      "\n",
      "    accuracy                           0.38         8\n",
      "   macro avg       0.20      0.20      0.20         8\n",
      "weighted avg       0.38      0.38      0.38         8\n",
      "\n"
     ]
    },
    {
     "name": "stderr",
     "output_type": "stream",
     "text": [
      "C:\\Users\\newto\\Searches\\New folder\\Lib\\site-packages\\sklearn\\metrics\\_classification.py:1531: UndefinedMetricWarning: Precision is ill-defined and being set to 0.0 in labels with no predicted samples. Use `zero_division` parameter to control this behavior.\n",
      "  _warn_prf(average, modifier, f\"{metric.capitalize()} is\", len(result))\n",
      "C:\\Users\\newto\\Searches\\New folder\\Lib\\site-packages\\sklearn\\metrics\\_classification.py:1531: UndefinedMetricWarning: Precision is ill-defined and being set to 0.0 in labels with no predicted samples. Use `zero_division` parameter to control this behavior.\n",
      "  _warn_prf(average, modifier, f\"{metric.capitalize()} is\", len(result))\n",
      "C:\\Users\\newto\\Searches\\New folder\\Lib\\site-packages\\sklearn\\metrics\\_classification.py:1531: UndefinedMetricWarning: Precision is ill-defined and being set to 0.0 in labels with no predicted samples. Use `zero_division` parameter to control this behavior.\n",
      "  _warn_prf(average, modifier, f\"{metric.capitalize()} is\", len(result))\n"
     ]
    }
   ],
   "source": [
    "for name, model in models.items():\n",
    "    model.fit(X_train, y_train)\n",
    "    y_pred = model.predict(X_test)\n",
    "    print(f\"\\n===== {name} =====\")\n",
    "    print(\"Confusion Matrix:\")\n",
    "    print(confusion_matrix(y_test, y_pred))\n",
    "    print(\"\\nClassification Report:\")\n",
    "    print(classification_report(y_test, y_pred))"
   ]
  },
  {
   "cell_type": "code",
   "execution_count": null,
   "id": "e9cf025f-2775-4561-859e-e03d8ba76e14",
   "metadata": {},
   "outputs": [],
   "source": []
  }
 ],
 "metadata": {
  "kernelspec": {
   "display_name": "Python 3 (ipykernel)",
   "language": "python",
   "name": "python3"
  },
  "language_info": {
   "codemirror_mode": {
    "name": "ipython",
    "version": 3
   },
   "file_extension": ".py",
   "mimetype": "text/x-python",
   "name": "python",
   "nbconvert_exporter": "python",
   "pygments_lexer": "ipython3",
   "version": "3.12.7"
  }
 },
 "nbformat": 4,
 "nbformat_minor": 5
}
